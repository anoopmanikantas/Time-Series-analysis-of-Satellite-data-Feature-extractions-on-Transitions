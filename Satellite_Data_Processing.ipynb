{
  "nbformat": 4,
  "nbformat_minor": 0,
  "metadata": {
    "colab": {
      "name": "Satellite Data Processing.ipynb",
      "provenance": [],
      "collapsed_sections": [],
      "include_colab_link": true
    },
    "kernelspec": {
      "name": "python3",
      "display_name": "Python 3"
    },
    "language_info": {
      "name": "python"
    }
  },
  "cells": [
    {
      "cell_type": "markdown",
      "metadata": {
        "id": "view-in-github",
        "colab_type": "text"
      },
      "source": [
        "<a href=\"https://colab.research.google.com/github/anoopmanikantas/Time-Series-analysis-of-Satellite-data-Feature-extractions-on-Transitions/blob/main/Satellite_Data_Processing.ipynb\" target=\"_parent\"><img src=\"https://colab.research.google.com/assets/colab-badge.svg\" alt=\"Open In Colab\"/></a>"
      ]
    },
    {
      "cell_type": "markdown",
      "metadata": {
        "id": "2oD_9KjBsnwe"
      },
      "source": [
        "Importing required libraries"
      ]
    },
    {
      "cell_type": "code",
      "metadata": {
        "id": "a_Na-fgZsmmd"
      },
      "source": [
        "import pandas as pd\n",
        "from PIL import Image\n",
        "import matplotlib.pyplot as plt\n",
        "import numpy as np\n",
        "import tifffile as tiff"
      ],
      "execution_count": 45,
      "outputs": []
    },
    {
      "cell_type": "markdown",
      "metadata": {
        "id": "yaq8tVTMDeqp"
      },
      "source": [
        "Connect to drive"
      ]
    },
    {
      "cell_type": "code",
      "metadata": {
        "id": "R02uhY0BDf3T"
      },
      "source": [
        "from google.colab import drive\n",
        "drive.mount('/content/drive')"
      ],
      "execution_count": null,
      "outputs": []
    },
    {
      "cell_type": "markdown",
      "metadata": {
        "id": "KeXe7JHEDSPh"
      },
      "source": [
        "Extract dataset"
      ]
    },
    {
      "cell_type": "code",
      "metadata": {
        "id": "dm-FLJH1DT29"
      },
      "source": [
        "!unzip /content/drive/MyDrive/SATimgData/archive.zip"
      ],
      "execution_count": null,
      "outputs": []
    },
    {
      "cell_type": "markdown",
      "metadata": {
        "id": "bbZNZ4Adsulh"
      },
      "source": [
        "Constants\n"
      ]
    },
    {
      "cell_type": "code",
      "metadata": {
        "id": "J05AMjjZA4t1"
      },
      "source": [
        "!rm -r /content/drive/MyDrive/SATimgData/EuroSAT"
      ],
      "execution_count": 93,
      "outputs": []
    },
    {
      "cell_type": "code",
      "metadata": {
        "id": "46mymCy2st6T"
      },
      "source": [
        "MAIN_DIR = '/content/'"
      ],
      "execution_count": 8,
      "outputs": []
    },
    {
      "cell_type": "code",
      "metadata": {
        "id": "iylmWaZ0onBj",
        "colab": {
          "base_uri": "https://localhost:8080/",
          "height": 203
        },
        "outputId": "afcdd36e-de9e-456a-ffe5-f8c86ee09f39"
      },
      "source": [
        "df = pd.read_csv(MAIN_DIR+'EuroSATallBands/train.csv')\n",
        "df.head()"
      ],
      "execution_count": 9,
      "outputs": [
        {
          "output_type": "execute_result",
          "data": {
            "text/html": [
              "<div>\n",
              "<style scoped>\n",
              "    .dataframe tbody tr th:only-of-type {\n",
              "        vertical-align: middle;\n",
              "    }\n",
              "\n",
              "    .dataframe tbody tr th {\n",
              "        vertical-align: top;\n",
              "    }\n",
              "\n",
              "    .dataframe thead th {\n",
              "        text-align: right;\n",
              "    }\n",
              "</style>\n",
              "<table border=\"1\" class=\"dataframe\">\n",
              "  <thead>\n",
              "    <tr style=\"text-align: right;\">\n",
              "      <th></th>\n",
              "      <th>Filename</th>\n",
              "      <th>Label</th>\n",
              "      <th>ClassName</th>\n",
              "    </tr>\n",
              "  </thead>\n",
              "  <tbody>\n",
              "    <tr>\n",
              "      <th>0</th>\n",
              "      <td>PermanentCrop/PermanentCrop_2401.tif</td>\n",
              "      <td>6</td>\n",
              "      <td>PermanentCrop</td>\n",
              "    </tr>\n",
              "    <tr>\n",
              "      <th>1</th>\n",
              "      <td>PermanentCrop/PermanentCrop_1006.tif</td>\n",
              "      <td>6</td>\n",
              "      <td>PermanentCrop</td>\n",
              "    </tr>\n",
              "    <tr>\n",
              "      <th>2</th>\n",
              "      <td>HerbaceousVegetation/HerbaceousVegetation_1025...</td>\n",
              "      <td>2</td>\n",
              "      <td>HerbaceousVegetation</td>\n",
              "    </tr>\n",
              "    <tr>\n",
              "      <th>3</th>\n",
              "      <td>SeaLake/SeaLake_1439.tif</td>\n",
              "      <td>9</td>\n",
              "      <td>SeaLake</td>\n",
              "    </tr>\n",
              "    <tr>\n",
              "      <th>4</th>\n",
              "      <td>River/River_1052.tif</td>\n",
              "      <td>8</td>\n",
              "      <td>River</td>\n",
              "    </tr>\n",
              "  </tbody>\n",
              "</table>\n",
              "</div>"
            ],
            "text/plain": [
              "                                            Filename  ...             ClassName\n",
              "0               PermanentCrop/PermanentCrop_2401.tif  ...         PermanentCrop\n",
              "1               PermanentCrop/PermanentCrop_1006.tif  ...         PermanentCrop\n",
              "2  HerbaceousVegetation/HerbaceousVegetation_1025...  ...  HerbaceousVegetation\n",
              "3                           SeaLake/SeaLake_1439.tif  ...               SeaLake\n",
              "4                               River/River_1052.tif  ...                 River\n",
              "\n",
              "[5 rows x 3 columns]"
            ]
          },
          "metadata": {
            "tags": []
          },
          "execution_count": 9
        }
      ]
    },
    {
      "cell_type": "markdown",
      "metadata": {
        "id": "aJBriZAICAKF"
      },
      "source": [
        "Everything below is waste (under maintenance)"
      ]
    },
    {
      "cell_type": "code",
      "metadata": {
        "id": "BXnYq773vTuJ"
      },
      "source": [
        "img = tiff.imread(MAIN_DIR+'EuroSATallBands/Pasture/Pasture_1.tif')[:,:,1:4][:,:,::-1]\n",
        "img_m = img.astype('float32')\n",
        "img_m/=4095"
      ],
      "execution_count": 103,
      "outputs": []
    },
    {
      "cell_type": "code",
      "metadata": {
        "colab": {
          "base_uri": "https://localhost:8080/",
          "height": 285
        },
        "id": "v6cBUp6Pur0f",
        "outputId": "c4fca1df-23a9-4022-ce61-c6c3cdd17fc4"
      },
      "source": [
        "plt.imshow(img_m)"
      ],
      "execution_count": 104,
      "outputs": [
        {
          "output_type": "execute_result",
          "data": {
            "text/plain": [
              "<matplotlib.image.AxesImage at 0x7efc32539b10>"
            ]
          },
          "metadata": {
            "tags": []
          },
          "execution_count": 104
        },
        {
          "output_type": "display_data",
          "data": {
            "image/png": "[encoded data removed]",
            "text/plain": [
              "<Figure size 432x288 with 1 Axes>"
            ]
          },
          "metadata": {
            "tags": [],
            "needs_background": "light"
          }
        }
      ]
    },
    {
      "cell_type": "code",
      "metadata": {
        "colab": {
          "base_uri": "https://localhost:8080/",
          "height": 285
        },
        "id": "qS1LMDXcuyhz",
        "outputId": "c03057a2-ec32-4f0e-86c5-2bf4a775b766"
      },
      "source": [
        "img = Image.open(MAIN_DIR+'EuroSAT/Pasture/Pasture_1.jpg')\n",
        "plt.imshow(img)"
      ],
      "execution_count": 84,
      "outputs": [
        {
          "output_type": "execute_result",
          "data": {
            "text/plain": [
              "<matplotlib.image.AxesImage at 0x7efc326fddd0>"
            ]
          },
          "metadata": {
            "tags": []
          },
          "execution_count": 84
        },
        {
          "output_type": "display_data",
          "data": {
            "image/png": "[encoded data removed]",
            "text/plain": [
              "<Figure size 432x288 with 1 Axes>"
            ]
          },
          "metadata": {
            "tags": [],
            "needs_background": "light"
          }
        }
      ]
    },
    {
      "cell_type": "code",
      "metadata": {
        "id": "P1Yfrw_lxNHa"
      },
      "source": [
        ""
      ],
      "execution_count": null,
      "outputs": []
    }
  ]
}